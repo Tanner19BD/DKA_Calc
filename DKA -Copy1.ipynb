{
 "cells": [
  {
   "cell_type": "code",
   "execution_count": 13,
   "metadata": {
    "tags": []
   },
   "outputs": [],
   "source": [
    "def dka_ph(ph) :\n",
    "        ###\"This function calculates fluid needs for DKA patient \"\n",
    "    if ph <= 6.9 :\n",
    "        print(\"Acidotic: Dilute NaHCO3 (100 mmol) in 400 ml H2O with 20 mEq KCl and infuse over 2 hours\")\n",
    "    else :\n",
    "        print(\"Non-Acidotic: No HCO3\") \n",
    "def dka_k(k) : \n",
    "        ###\"This function calculates supplemental potassium needs for DKA patient\"\n",
    "    if k < 3.3 :\n",
    "        print(\"Hypokalemic: hold insulin and give 20 to 40 meq K per hour until k > 3.3\")\n",
    "    elif 3.3 < k < 5.3 :\n",
    "        print(\"Normokalemic: give 20 to 30 mEq of k in each liter of IV fluid to keep serum K between 4 to 5 mEq/L \")\n",
    "    else :\n",
    "        print(\"Hyperkalemic: No supplemental k. Continue to check serum every 2 hours\")        \n",
    "def dka_fluids(ph,na,glu) :\n",
    "        ###\"this function calculates fluids needed in dka with sodium and glucose levels\"\n",
    "    if ph <= 6.9 :\n",
    "        print('See bicarb for fluids')\n",
    "    elif glu <= 200 :\n",
    "        print('Hypoglycemic: 5% dextrose with with 0.45% NaCl at 150 - 250 ml/hr')\n",
    "    elif na <= 135 :\n",
    "        print('Hyponatremic: 0.9% NaCl 250-500 ml /hr if fluid status is severe hypovolemia then 1 L/hr')\n",
    "    else :\n",
    "        print('Hypernatremic: 0.45% NaCl 250 - 500 ml/hr depending on fluid status' )\n",
    "def dka_ag(ag) :\n",
    "        ###\"this function defines anion gap as opened or closed\"\n",
    "    if ag < 15 :\n",
    "        print('Anion Gap closed. Administer long acting subcutaneous insulin and continue insulin drip for 2 hours with glucose monitoring')\n",
    "    else :\n",
    "        print(\"Anion gap opened. Continue DKA protocol until Anion gap is closed\")                           \n",
    "\n",
    "   "
   ]
  },
  {
   "cell_type": "markdown",
   "metadata": {},
   "source": [
    "<br>"
   ]
  },
  {
   "cell_type": "code",
   "execution_count": 14,
   "metadata": {
    "tags": []
   },
   "outputs": [],
   "source": [
    "#insert Serum Glucose, Arterial pH, Serum Sodium (uncorrected), Serum Potassium, Serum chloride, Serum Bicarbonate, \n",
    "#serum albumin and Ketonuria or Ketonemia (True or False), on SGLT2 inhbiitor (True or False)"
   ]
  },
  {
   "cell_type": "code",
   "execution_count": 15,
   "metadata": {
    "tags": []
   },
   "outputs": [],
   "source": [
    "serum_glucose = 517\n",
    "glu = serum_glucose"
   ]
  },
  {
   "cell_type": "code",
   "execution_count": 16,
   "metadata": {},
   "outputs": [],
   "source": [
    "arterial_pH = 7.31\n",
    "ph = arterial_pH"
   ]
  },
  {
   "cell_type": "code",
   "execution_count": 17,
   "metadata": {},
   "outputs": [],
   "source": [
    "### Sodium to be corrected for hyperglycemia if needs be (1.6 or 2 or 2.4?) \n",
    "sodium = 176\n",
    "if glu > 100 :\n",
    "    na = round(sodium + 0.02*(glu-100))\n",
    "else :\n",
    "    na = sodium"
   ]
  },
  {
   "cell_type": "code",
   "execution_count": 18,
   "metadata": {},
   "outputs": [],
   "source": [
    "serum_potassium = 5.5\n",
    "k = serum_potassium  "
   ]
  },
  {
   "cell_type": "code",
   "execution_count": 19,
   "metadata": {},
   "outputs": [],
   "source": [
    "serum_chloride = 135\n",
    "cl = serum_chloride  "
   ]
  },
  {
   "cell_type": "code",
   "execution_count": 20,
   "metadata": {},
   "outputs": [],
   "source": [
    "serum_bicarbonate = 22\n",
    "bicarb = serum_bicarbonate"
   ]
  },
  {
   "cell_type": "code",
   "execution_count": 21,
   "metadata": {},
   "outputs": [],
   "source": [
    "serum_albumin = 3.7\n",
    "albumin = serum_albumin"
   ]
  },
  {
   "cell_type": "code",
   "execution_count": 22,
   "metadata": {},
   "outputs": [],
   "source": [
    "ketonuria = True ###(True or False)"
   ]
  },
  {
   "cell_type": "code",
   "execution_count": 23,
   "metadata": {},
   "outputs": [],
   "source": [
    "ketonemia = False ###(True or False)"
   ]
  },
  {
   "cell_type": "code",
   "execution_count": 24,
   "metadata": {},
   "outputs": [],
   "source": [
    "SGLT2 = False ###(True or False)"
   ]
  },
  {
   "cell_type": "code",
   "execution_count": 25,
   "metadata": {},
   "outputs": [],
   "source": [
    "### Anion Gap (does not use corrected Na for hyperglycemia reference: PMID: 11510523)\n",
    "anion_gap = sodium - (cl + bicarb)\n",
    "ag = round(anion_gap + (0.25 * (4 - albumin)))"
   ]
  },
  {
   "cell_type": "code",
   "execution_count": 26,
   "metadata": {
    "scrolled": true,
    "tags": []
   },
   "outputs": [
    {
     "name": "stdout",
     "output_type": "stream",
     "text": [
      "{'glu': 517, 'ph': 7.31, 'na': 184, 'k': 5.5, 'cl': 135, 'bicarb': 22, 'ag': 19, 'albumin': 3.7}\n",
      "No ketonemia\n",
      "Ketonuria present\n"
     ]
    }
   ],
   "source": [
    "###final values \n",
    "labs_names = ('glu','ph','na','k','cl','bicarb','ag','albumin')\n",
    "labs_values = (glu,ph,na,k,cl,bicarb,ag,albumin)\n",
    "results = zip(labs_names,labs_values)\n",
    "dict_results = dict(results)\n",
    "print(dict_results)\n",
    "\n",
    "if ketonemia == True :\n",
    "    print('Ketonemia present')\n",
    "else :\n",
    "    print('No ketonemia')\n",
    "\n",
    "if ketonuria == True :\n",
    "    print('Ketonuria present')\n",
    "else :\n",
    "    print('No ketouria')"
   ]
  },
  {
   "cell_type": "markdown",
   "metadata": {},
   "source": [
    "<br>"
   ]
  },
  {
   "cell_type": "code",
   "execution_count": 27,
   "metadata": {
    "scrolled": true,
    "tags": []
   },
   "outputs": [
    {
     "name": "stdout",
     "output_type": "stream",
     "text": [
      "No diagnosis of DKA. Do not continue orderset\n",
      "Diagnosis of HHS\n"
     ]
    }
   ],
   "source": [
    "### diagnosis (DKA, HHS, Euglycemic DKA)\n",
    "### DKA,(ketone = T or F not > moderate)\n",
    "if glu > 250 and ph <= 7.3 and bicarb <18 :\n",
    "    if ketonemia == True or ketonuria == True:\n",
    "        print('Diagnosis of DKA')\n",
    "    else :\n",
    "        print('No diagnosis of DKA')\n",
    "elif SGLT2 == True :\n",
    "    print('On SGLT2, consider euglycemic DKA') \n",
    "else : \n",
    "    print('No diagnosis of DKA. Do not continue orderset')    \n",
    "\n",
    "### HHS (without ketone assesment)    \n",
    "if glu > 250 and ph > 7.3 and bicarb > 15 :\n",
    "    print('Diagnosis of HHS')\n",
    "else :\n",
    "    print('No diagnosis of HHS')"
   ]
  },
  {
   "cell_type": "markdown",
   "metadata": {},
   "source": [
    "<br>"
   ]
  },
  {
   "cell_type": "code",
   "execution_count": 28,
   "metadata": {
    "tags": []
   },
   "outputs": [
    {
     "name": "stdout",
     "output_type": "stream",
     "text": [
      "{'glu': 517, 'ph': 7.31, 'na': 184, 'k': 5.5, 'cl': 135, 'bicarb': 22, 'ag': 19, 'albumin': 3.7}\n",
      "Anion gap opened. Continue DKA protocol until Anion gap is closed\n",
      "Hypernatremic: 0.45% NaCl 250 - 500 ml/hr depending on fluid status\n",
      "Hyperkalemic: No supplemental k. Continue to check serum every 2 hours\n",
      "Non-Acidotic: No HCO3\n",
      "None\n"
     ]
    }
   ],
   "source": [
    "def dka_orders(ag,na,glu,k,ph) : \n",
    "  ###this functions calculates the entire DKA orders \n",
    "    dka_ag(ag)\n",
    "    dka_fluids(ph,na,glu)\n",
    "    dka_k(k)\n",
    "    dka_ph(ph)\n",
    "\n",
    "ph = dict_results['ph']\n",
    "k = dict_results['k']\n",
    "na = dict_results['na']\n",
    "glu = dict_results['glu']\n",
    "ag = dict_results['ag']    \n",
    "\n",
    "print(dict_results)\n",
    "\n",
    "print(dka_orders(ag,na,glu,k,ph))"
   ]
  },
  {
   "cell_type": "markdown",
   "metadata": {
    "tags": []
   },
   "source": [
    "<br>"
   ]
  },
  {
   "cell_type": "markdown",
   "metadata": {},
   "source": [
    "<br>"
   ]
  },
  {
   "cell_type": "markdown",
   "metadata": {},
   "source": [
    "<br>"
   ]
  }
 ],
 "metadata": {
  "kernelspec": {
   "display_name": "Python 3",
   "language": "python",
   "name": "python3"
  },
  "language_info": {
   "codemirror_mode": {
    "name": "ipython",
    "version": 3
   },
   "file_extension": ".py",
   "mimetype": "text/x-python",
   "name": "python",
   "nbconvert_exporter": "python",
   "pygments_lexer": "ipython3",
   "version": "3.8.8"
  }
 },
 "nbformat": 4,
 "nbformat_minor": 4
}
